{
  "nbformat": 4,
  "nbformat_minor": 0,
  "metadata": {
    "colab": {
      "name": "simple_interface.ipynb",
      "provenance": [],
      "collapsed_sections": [],
      "include_colab_link": true
    },
    "kernelspec": {
      "name": "python3",
      "display_name": "Python 3"
    }
  },
  "cells": [
    {
      "cell_type": "markdown",
      "metadata": {
        "id": "view-in-github",
        "colab_type": "text"
      },
      "source": [
        "<a href=\"https://colab.research.google.com/github/DuyDucNguyen/Practical_FEM_FEniCS_Colab/blob/master/simple_interface.ipynb\" target=\"_parent\"><img src=\"https://colab.research.google.com/assets/colab-badge.svg\" alt=\"Open In Colab\"/></a>"
      ]
    },
    {
      "cell_type": "markdown",
      "metadata": {
        "id": "q9jw3RbWnrNt",
        "colab_type": "text"
      },
      "source": [
        "# Simple interface\n",
        "\n",
        "coupled problem with two variables and an interface\n",
        "\n",
        "linerized F form and stabilized F form"
      ]
    },
    {
      "cell_type": "code",
      "metadata": {
        "id": "UPquaXw9vkP-",
        "colab_type": "code",
        "colab": {}
      },
      "source": [
        "# This program shows how to implement interface boundary condition using PUFEM\n",
        "# simple coupled problem\n",
        "\n",
        "# Copyright (C) 2019 Duy Duc NGUYEN (duyduc.nguyen@protonmail.com)\n",
        "\n",
        "# This file is part of DOLFIN.\n",
        "\n",
        "# DOLFIN is free software: you can redistribute it and/or modify\n",
        "# it under the terms of the GNU Lesser General Public License as published by\n",
        "# the Free Software Foundation, either version 3 of the License, or\n",
        "# (at your option) any later version.\n",
        "\n",
        "# DOLFIN is distributed in the hope that it will be useful,\n",
        "# but WITHOUT ANY WARRANTY; without even the implied warranty of\n",
        "# MERCHANTABILITY or FITNESS FOR A PARTICULAR PURPOSE. See the\n",
        "# GNU Lesser General Public License for more details.\n",
        "\n",
        "# You should have received a copy of the GNU Lesser General Public License\n",
        "# along with DOLFIN. If not, see <http://www.gnu.org/licenses/>.\n",
        "\n",
        "# First added:  2019-09-23\n",
        "# Last changed: 2019-09-23\n",
        "\n",
        "# This demo is maintained by Duy Duc NGUYEN\n",
        "# Please report possible problems to duyduc.nguyen@protonmail.com"
      ],
      "execution_count": 0,
      "outputs": []
    },
    {
      "cell_type": "code",
      "metadata": {
        "id": "baG1mr1tnk6J",
        "colab_type": "code",
        "outputId": "d2012441-4708-4aae-a3e1-518794995aba",
        "colab": {
          "base_uri": "https://localhost:8080/",
          "height": 35
        }
      },
      "source": [
        "# install Fenics: 2 mins\n",
        "from google.colab import files\n",
        "\n",
        "import platform, sys\n",
        "python_version=platform.python_version()\n",
        "from distutils.version import LooseVersion, StrictVersion\n",
        "\n",
        "if ( LooseVersion(python_version) < LooseVersion(\"3.0.0\")):\n",
        "    print(\"Python3 is needed!\");\n",
        "    print(\"How to fix: Runtime/Change_runtime_type/Python 3\");\n",
        "    sys.exit()\n",
        "    \n",
        "try:\n",
        "    from dolfin import *; from mshr import *\n",
        "except ImportError as e:\n",
        "    !apt-get install -y -qq software-properties-common python-software-properties module-init-tools\n",
        "    !add-apt-repository -y ppa:fenics-packages/fenics\n",
        "    !apt-get update -qq\n",
        "    !apt install -y --no-install-recommends fenics\n",
        "    from dolfin import *; from mshr import *\n",
        "    \n",
        "import matplotlib.pyplot as plt;\n",
        "from IPython.display import clear_output, display; import time; import dolfin.common.plotting as fenicsplot \n",
        "import time\n",
        "\n",
        "import os, sys, shutil\n",
        "\n",
        "dolfin_version = dolfin.__version__\n",
        "print ('dolfin version:', dolfin_version)\n",
        "\n",
        "!rm -rf * # clean up all files\n",
        "# Useful commands\n",
        "# Remove an empty folder      : os.rmdir(\"my_results\")\n",
        "# Remove a folder with files  : shutil.rmtree(\"results\")\n",
        "# Make a folder               : os.mkdir(\"my_results\")\n",
        "# Runtime/Change_runtime_type/Python3"
      ],
      "execution_count": 0,
      "outputs": [
        {
          "output_type": "stream",
          "text": [
            "dolfin version: 2019.1.0\n"
          ],
          "name": "stdout"
        }
      ]
    },
    {
      "cell_type": "code",
      "metadata": {
        "id": "vZnbf4OxnlBl",
        "colab_type": "code",
        "outputId": "112d2b1b-c3b8-4ab7-9d9b-007cf888cba6",
        "colab": {
          "base_uri": "https://localhost:8080/",
          "height": 906
        }
      },
      "source": [
        "def read_h5(filename = 'file.h5'):\n",
        "\t'''Description: Convert mesh written in XML format into H5 format\n",
        "\t   Write mesh tags (boundaries, domains) into H5 file\n",
        "\t   Input:  XML mesh\n",
        "\t   Output: H5 mesh\n",
        "\t'''\n",
        "\tmesh = Mesh()\n",
        "\thdf = HDF5File(mesh.mpi_comm(), filename, \"r\")\n",
        "\thdf.read(mesh, \"/mesh\", False)\n",
        "\tdim = mesh.topology().dim()\n",
        "\tcell_markers = MeshFunction(\"size_t\", mesh, dim)\n",
        "\thdf.read(cell_markers, \"/cell_markers\")\n",
        "\tfacet_markers = MeshFunction(\"size_t\", mesh, dim-1)\n",
        "\thdf.read(facet_markers, \"/facet_markers\")\n",
        "\treturn mesh, cell_markers, facet_markers\n",
        "\n",
        "\n",
        "# clone my repository\n",
        "! git clone --recursive 'https://github.com/DuyDucNguyen/Practical_FEM_FEniCS_Colab/'\n",
        "! ls\n",
        "\n",
        "\n",
        "# load mesh\n",
        "mesh_name = 'Practical_FEM_FEniCS_Colab/Geometry/2D_specimen_vacuum.h5'\n",
        "mesh, cell_markers, facet_markers = read_h5(mesh_name)\n",
        "\n",
        "\n",
        "parameters[\"ghost_mode\"] = \"shared_facet\" # 'none', 'shared_facet', \"shared_vertex\"\n",
        "#info(parameters, True)\n",
        "#parameters[\"plotting_backend\"] = \"matplotlib\"\n",
        "\n",
        "\n",
        "# define subdomains and cell measure\n",
        "dx = Measure(\"dx\", domain = mesh, subdomain_data = cell_markers)\n",
        "\n",
        "\n",
        "# define interface and facet measure\n",
        "dS = Measure(\"dS\", domain = mesh, subdomain_data = facet_markers)\n",
        "\n",
        "\n",
        "#File(\"dS.pvd\") << facet_domains\n",
        "#File(\"domains.pvd\") << cell_domains\n",
        "\n",
        "\n",
        "x = SpatialCoordinate(mesh)\n",
        "\n",
        "# indicator functions for the two subdomains\n",
        "I0 = conditional(x[1] < 100.0, 1, 0)\n",
        "I1 = conditional(x[1] > 100.0, 1, 0)\n",
        "\n",
        "# material parameters\n",
        "c0, c1 = Constant(1.0), Constant(1.0)\n",
        "c = I0 * c0 + I1 * c1\n",
        "k = Constant(8.0)\n",
        "\n",
        "c00 = c0*I0\n",
        "\n",
        "\n",
        "# define Gausian source term\n",
        "Sn_str = '(I_0/(sigma_x*sigma_y))*exp( -(pow((x[0] - Bx)/sigma_x, 2.0) + pow((x[1] - By)/sigma_y, 2.0) ) )'\n",
        "Sn = Expression( Sn_str, degree = 1, I_0 = 100.0,\n",
        "    Bx = 250, By = 80, sigma_x = 10.0, sigma_y = 10.0)\n",
        "f = Sn\n",
        "\n",
        "\n",
        "# define function space\n",
        "p = 1\n",
        "V_ele = VectorElement(\"CG\", mesh.ufl_cell(), p) # probably one needs to set dim=3?\n",
        "f_ele = FiniteElement(\"CG\", mesh.ufl_cell(), p)\n",
        "WW = FunctionSpace(mesh, MixedElement([V_ele, V_ele]))\n",
        "\n",
        "V = FunctionSpace(mesh, \"CG\", 1)\n",
        "u_cg = project(c00, V)\n",
        "#plot(u_cg)\n",
        "#plt.show()\n",
        "\n",
        "\n",
        "\n",
        "\n",
        "# define variational forms\n",
        "dunks, tests = TrialFunction(WW), TestFunction(WW)\n",
        "(dphi, dn) = split(dunks)\n",
        "(tphi, tn) = split(tests)\n",
        "\n",
        "\n",
        "# dirichlet boundary on the exterior\n",
        "bc_phi = DirichletBC(WW.sub(0), (0., 0.), \"on_boundary\")\n",
        "bc_n = DirichletBC(WW.sub(1), (0., 0.), \"on_boundary\")\n",
        "bcs = [bc_phi, bc_n]\n",
        "\n",
        "\n",
        "# phi\n",
        "a_dphi = c0*inner(grad(dphi[0]), grad(tphi[0]))*dx(0) \\\n",
        "      + c1*inner(grad(dphi[1]), grad(tphi[1]))*dx(1)\n",
        "L_dphi = (-dn[0])*tphi[0]*dx(0) + (-dn[1]) *tphi[1]*dx(1) \\\n",
        "\n",
        "\n",
        "# n\n",
        "a_dn = c0*inner(grad(dn[0]), grad(tn[0]))*dx(0) \\\n",
        "    + c1*inner(grad(dn[1]), grad(tn[1]))*dx(1)\n",
        "L_dn = f*tn[0]*dx(0) + f*tn[1]*dx(1) \\\n",
        "\n",
        "\n",
        "# interface boundary condition\n",
        "jmp_dphi = avg(dphi[0]) - avg(dphi[1])\n",
        "jmp_tphi = avg(tphi[0]) - avg(tphi[1])\n",
        "\n",
        "jmp_dn = avg(dn[0]) - avg(dn[1])\n",
        "jmp_tn = avg(tn[0]) - avg(tn[1])\n",
        "\n",
        "\n",
        "# F form\n",
        "F = a_dphi + a_dn - L_dphi - L_dn + 0.01*jmp_dn*jmp_tn*dS(1)\n",
        "\n",
        "\n",
        "print(\"##### Linearization #####\")\n",
        "UNKS_lnr = Function(WW, name='(phi; n) linearized')\n",
        "a = lhs(F)\n",
        "L = rhs(F)\n",
        "A, b = assemble_system(a, L, bcs)\n",
        "#A = assemble(a)\n",
        "A.ident_zeros()\n",
        "solve(A, UNKS_lnr.vector(), b)\n",
        "\n",
        "# save solution\n",
        "_PHI, _N, = UNKS_lnr.split(True)\n",
        "\n",
        "# project to DG0 and plot\n",
        "V = FunctionSpace(mesh, \"DG\", 1)\n",
        "u, v = TrialFunction(V), TestFunction(V)\n",
        "phi_dg = Function(V, name=\"phi linearized\"); n_dg = Function(V, name=\"n linearized\")\n",
        "solve(u*v*dx == v*_PHI[0]*dx(0) + v*_PHI[1]*dx(1), phi_dg)\n",
        "solve(u*v*dx == v*_N[0]*dx(0) + v*_N[1]*dx(1), n_dg)\n",
        "#plot(u_dg); \n",
        "\n",
        "#File('PHI_linearized.pvd') << phi_dg\n",
        "#File('N_linearized.pvd') << n_dg\n",
        "\n",
        "\n",
        "plt.figure()\n",
        "plot(phi_dg)\n",
        "plt.title('linearized phi')\n",
        "\n",
        "plt.figure()\n",
        "plot(n_dg)\n",
        "plt.title('linearized n')\n",
        "\n",
        "\n",
        "\n",
        "\n",
        "print(\"##### Stablization #####\")\n",
        "UNKS_sbl = Function(WW, name='(phi; n) stabilized')\n",
        "phi_sbl, n_sbl = split(UNKS_sbl)\n",
        "\n",
        "\n",
        "beta = 0.001\n",
        "'''F_sbl = F + beta*dphi[1]*tphi[1]*dx(0) + beta*dphi[0]*tphi[0]*dx(1) \\\n",
        "      + beta*dn[1]*tn[1]*dx(0) + beta*dn[0]*tn[0]*dx(1)\n",
        "F_sbl = action(F_sbl, UNKS_sbl)'''\n",
        "\n",
        "\n",
        "jmp_n_sbl = avg(n_sbl[0]) - avg(n_sbl[1])\n",
        "jmp_tn = avg(tn[0]) - avg(tn[1])\n",
        "\n",
        "F_sbl = c0*inner(grad(phi_sbl[0]), grad(tphi[0]))*dx(0) \\\n",
        "      + c1*inner(grad(phi_sbl[1]), grad(tphi[1]))*dx(1) \\\n",
        "      - (-n_sbl[0])*tphi[0]*dx(0) - (-n_sbl[1]) *tphi[1]*dx(1) \\\n",
        "      + c0*inner(grad(n_sbl[0]), grad(tn[0]))*dx(0) \\\n",
        "      + c1*inner(grad(n_sbl[1]), grad(tn[1]))*dx(1) \\\n",
        "      - f*tn[0]*dx(0) - f*tn[1]*dx(1) \\\n",
        "      + beta*phi_sbl[1]*tphi[1]*dx(0) + beta*phi_sbl[0]*tphi[0]*dx(1) \\\n",
        "      + beta*n_sbl[1]*tn[1]*dx(0) + beta*n_sbl[0]*tn[0]*dx(1) \\\n",
        "      + 0.01*jmp_n_sbl*jmp_tn*dS(1)\n",
        "\n",
        "\n",
        "solve(F_sbl == 0 , UNKS_sbl, bcs )\n",
        "\n",
        "# save solution\n",
        "_PHI_sbl, _N_sbl, = UNKS_sbl.split(True)\n",
        "\n",
        "# project to DG0 and plot\n",
        "phi_dg_sbl = Function(V, name=\"phi stabilized\")\n",
        "n_dg_sbl = Function(V, name=\"n stabilized\")\n",
        "solve(u*v*dx == v*_PHI_sbl[0]*dx(0) + v*_PHI_sbl[1]*dx(1), phi_dg_sbl)\n",
        "solve(u*v*dx == v*_N_sbl[0]*dx(0) + v*_N_sbl[1]*dx(1), n_dg_sbl)\n",
        "\n",
        "\n",
        "#File('PHI_stabilized.pvd') << phi_dg_sbl\n",
        "#File('N_stabilized.pvd') << n_dg_sbl\n",
        "\n",
        "\n",
        "plt.figure()\n",
        "plot(phi_dg_sbl)\n",
        "plt.title('stabilized phi')\n",
        "\n",
        "plt.figure()\n",
        "plot(n_dg_sbl)\n",
        "plt.title('stabilized n')\n",
        "\n",
        "\n",
        "plt.show()"
      ],
      "execution_count": 0,
      "outputs": [
        {
          "output_type": "stream",
          "text": [
            "Cloning into 'Practical_FEM_FEniCS_Colab'...\n",
            "remote: Enumerating objects: 25, done.\u001b[K\n",
            "remote: Counting objects: 100% (25/25), done.\u001b[K\n",
            "remote: Compressing objects: 100% (21/21), done.\u001b[K\n",
            "remote: Total 25 (delta 7), reused 4 (delta 1), pack-reused 0\u001b[K\n",
            "Unpacking objects: 100% (25/25), done.\n",
            "Practical_FEM_FEniCS_Colab\n",
            "##### Linearization #####\n",
            "##### Stablization #####\n"
          ],
          "name": "stdout"
        },
        {
          "output_type": "display_data",
          "data": {
            "image/png": "[encoded data removed]",
            "text/plain": [
              "<Figure size 432x288 with 1 Axes>"
            ]
          },
          "metadata": {
            "tags": []
          }
        },
        {
          "output_type": "display_data",
          "data": {
            "image/png": "[encoded data removed]",
            "text/plain": [
              "<Figure size 432x288 with 1 Axes>"
            ]
          },
          "metadata": {
            "tags": []
          }
        },
        {
          "output_type": "display_data",
          "data": {
            "image/png": "[encoded data removed]",
            "text/plain": [
              "<Figure size 432x288 with 1 Axes>"
            ]
          },
          "metadata": {
            "tags": []
          }
        },
        {
          "output_type": "display_data",
          "data": {
            "image/png": "[encoded data removed]",
            "text/plain": [
              "<Figure size 432x288 with 1 Axes>"
            ]
          },
          "metadata": {
            "tags": []
          }
        }
      ]
    },
    {
      "cell_type": "code",
      "metadata": {
        "id": "x4m0x9yVnk_e",
        "colab_type": "code",
        "colab": {}
      },
      "source": [
        ""
      ],
      "execution_count": 0,
      "outputs": []
    }
  ]
}