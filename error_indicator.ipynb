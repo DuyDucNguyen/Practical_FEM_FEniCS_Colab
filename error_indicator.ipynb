{
  "nbformat": 4,
  "nbformat_minor": 0,
  "metadata": {
    "colab": {
      "name": "error_indicator.ipynb",
      "provenance": [],
      "collapsed_sections": [],
      "include_colab_link": true
    },
    "kernelspec": {
      "name": "python3",
      "display_name": "Python 3"
    }
  },
  "cells": [
    {
      "cell_type": "markdown",
      "metadata": {
        "id": "view-in-github",
        "colab_type": "text"
      },
      "source": [
        "<a href=\"https://colab.research.google.com/github/DuyDucNguyen/Practical_FEM_FEniCS_Colab/blob/master/error_indicator.ipynb\" target=\"_parent\"><img src=\"https://colab.research.google.com/assets/colab-badge.svg\" alt=\"Open In Colab\"/></a>"
      ]
    },
    {
      "cell_type": "markdown",
      "metadata": {
        "id": "bZYR9JIz7hZ9",
        "colab_type": "text"
      },
      "source": [
        "# Error Indicatior"
      ]
    },
    {
      "cell_type": "code",
      "metadata": {
        "id": "bJAG1ZQE7g0H",
        "colab_type": "code",
        "colab": {}
      },
      "source": [
        "# This program shows to compute error indicator for adaptive mesh refinement\n",
        "\n",
        "# Reference: This program is followed the ideas in last chapter of the course 'edx.org - KTHx - High Performance Finite Element Modeling'. \n",
        "# The author modifies it up to date and give clear explaination.  \n",
        "\n",
        "# Copyright (C) 2019 Duy Duc NGUYEN (duyduc.nguyen@protonmail.com)\n",
        "\n",
        "# This file is part of DOLFIN.\n",
        "\n",
        "# DOLFIN is free software: you can redistribute it and/or modify\n",
        "# it under the terms of the GNU Lesser General Public License as published by\n",
        "# the Free Software Foundation, either version 3 of the License, or\n",
        "# (at your option) any later version.\n",
        "\n",
        "# DOLFIN is distributed in the hope that it will be useful,\n",
        "# but WITHOUT ANY WARRANTY; without even the implied warranty of\n",
        "# MERCHANTABILITY or FITNESS FOR A PARTICULAR PURPOSE. See the\n",
        "# GNU Lesser General Public License for more details.\n",
        "\n",
        "# You should have received a copy of the GNU Lesser General Public License\n",
        "# along with DOLFIN. If not, see <http://www.gnu.org/licenses/>.\n",
        "\n",
        "# First added:  2019-09-23\n",
        "# Last changed: 2019-09-23\n",
        "\n",
        "# This demo is maintained by Duy Duc NGUYEN\n",
        "# Please report possible problems to duyduc.nguyen@protonmail.com"
      ],
      "execution_count": 0,
      "outputs": []
    },
    {
      "cell_type": "markdown",
      "metadata": {
        "id": "IlbAPmCJ-AmV",
        "colab_type": "text"
      },
      "source": [
        "Install Fenics"
      ]
    },
    {
      "cell_type": "code",
      "metadata": {
        "id": "UDjfTO4-91xz",
        "colab_type": "code",
        "colab": {}
      },
      "source": [
        "from google.colab import files\n",
        "\n",
        "import platform, sys\n",
        "python_version=platform.python_version()\n",
        "from distutils.version import LooseVersion, StrictVersion\n",
        "\n",
        "if ( LooseVersion(python_version) < LooseVersion(\"3.0.0\")):\n",
        "    print(\"Python3 is needed!\");\n",
        "    print(\"How to fix: Runtime/Change_runtime_type/Python 3\");\n",
        "    sys.exit()\n",
        "    \n",
        "try:\n",
        "    from dolfin import *; from mshr import *\n",
        "except ImportError as e:\n",
        "    !apt-get install -y -qq software-properties-common python-software-properties module-init-tools\n",
        "    !add-apt-repository -y ppa:fenics-packages/fenics\n",
        "    !apt-get update -qq\n",
        "    !apt install -y --no-install-recommends fenics\n",
        "    from dolfin import *; from mshr import *\n",
        "    \n",
        "import matplotlib.pyplot as plt;\n",
        "from IPython.display import clear_output, display; import time; import dolfin.common.plotting as fenicsplot \n",
        "import time\n",
        "\n",
        "import os, sys, shutil\n",
        "\n",
        "dolfin_version = dolfin.__version__\n",
        "print ('dolfin version:', dolfin_version)\n",
        "\n",
        "!rm -rf * # clean up all files\n",
        "# Useful commands\n",
        "# Remove an empty folder      : os.rmdir(\"my_results\")\n",
        "# Remove a folder with files  : shutil.rmtree(\"results\")\n",
        "# Make a folder               : os.mkdir(\"my_results\")\n",
        "# Runtime/Change_runtime_type/Python3"
      ],
      "execution_count": 0,
      "outputs": []
    },
    {
      "cell_type": "markdown",
      "metadata": {
        "id": "8IZGFfzGAn6y",
        "colab_type": "text"
      },
      "source": [
        "**Primal problem:** (unknown is $u$) Consider the stationary\n",
        "convection - diffusion - reaction problem in: \n",
        "\n",
        "\n",
        "\\begin{equation}\n",
        "-\\epsilon\\nabla^{2}u+\\boldsymbol{\\beta}\\cdot\\nabla u+\\alpha u=f\\text{ in }\\Omega\n",
        "\\end{equation}\n",
        "\n",
        "\n",
        "where $\\Omega=\\left[0,1\\right]\\times\\left[0,1\\right]$, vector field\n",
        "$\\boldsymbol{\\beta}=\\left(-5(y-0.5),5(x-0.5)\\right)$, coefficients\n",
        "$\\alpha=0.1$, $\\epsilon=0.01$ and the source \n",
        "\n",
        "\\begin{equation}\n",
        "f\\left(x\\right)=\\left\\{ \\begin{array}{ccc}\n",
        "1 & \\text{ if } & |x-\\left(0.75,0.75\\right)|\\leq0.1\\\\\n",
        "0 &  & \\text{otherwise}\n",
        "\\end{array}\\right..\n",
        "\\end{equation}\n",
        "\n",
        "\n",
        "Weak form $u\\in V$\n",
        "\n",
        "\\begin{equation}\n",
        "\\int_{\\Omega}\\left(\\epsilon\\nabla u\\nabla v+\\boldsymbol{\\beta}\\cdot\\nabla uv+\\alpha uv\\right)\\ \\mathrm{d}x=\\int_{\\Omega}fv\\ \\mathrm{d}x,\\forall v\\in V\n",
        "\\end{equation}\n",
        "\n",
        "Bi-linear and linear form\n",
        "\\begin{align*}\n",
        "a\\left(u,v\\right) & :=\\int_{\\Omega}\\left(\\epsilon\\nabla u\\nabla v+\\boldsymbol{\\beta}\\cdot\\nabla uv+\\alpha uv\\right)\\ \\mathrm{d}x\\\\\n",
        "L\\left(v\\right) & :=\\int_{\\Omega}fv\\ \\mathrm{d}x\n",
        "\\end{align*}\n",
        "\n",
        "Residual $r\\left(u,v\\right):=a\\left(u,v\\right)-L\\left(v\\right)=0$\n",
        "\n",
        "**Goal function:**(Quantity of interest) Let $\\mathcal{M}:V\\to\\mathbb{R}$\n",
        "and\n",
        "\\begin{equation}\n",
        "\\mathcal{M}\\left(u\\right)=\\int_{\\Omega}u\\left(x\\right)\\chi_{C(0.25,0.25,1)}\\left(x\\right)\\ \\mathrm{d}x\n",
        "\\end{equation}\n",
        "\n",
        "\n",
        "**Adjoint problem:** (dual problem) from definition above\n",
        "\\begin{equation}\n",
        "a\\left(v,\\phi\\right)=\\mathcal{M}\\left(v\\right),\\forall v\\in V\n",
        "\\end{equation}\n",
        "or\n",
        "\n",
        "\\begin{equation}\n",
        "\\int_{\\Omega}\\left(\\epsilon\\nabla v\\nabla\\phi+\\boldsymbol{\\beta}\\cdot\\nabla v\\phi+\\alpha v\\phi\\right)\\ \\mathrm{d}x=\\mathcal{M}\\left(v\\right)\n",
        "\\end{equation}\n",
        "\n",
        "\n",
        "Apply Green rule\n",
        "\\begin{equation}\n",
        "\\int_{\\Omega}\\left(-\\epsilon v\\nabla^{2}\\phi-\\boldsymbol{\\beta}\\cdot\\nabla\\phi v+\\alpha v\\phi\\right)\\ \\mathrm{d}x=\\int_{\\Omega}\\left(-\\epsilon\\nabla^{2}\\phi-\\boldsymbol{\\beta}\\cdot\\nabla\\phi+\\alpha\\phi\\right)v\\ \\mathrm{d}x=\\int v\\left(x\\right)\\chi_{C(0.25,0.25,1)}\\left(x\\right)\\ \\mathrm{d}x\n",
        "\\end{equation}\n",
        "\n",
        "\n",
        "Strong form for dual problem\n",
        "\\begin{equation}\n",
        "-\\epsilon\\nabla^{2}\\phi-\\boldsymbol{\\beta}\\cdot\\nabla\\phi+\\alpha\\phi=\\psi\\text{ in }\\Omega\n",
        "\\end{equation}\n",
        "with the source\n",
        "\n",
        "\\begin{equation}\n",
        "\\psi\\left(x\\right)=\\chi_{C(0.25,0.25,1)}(x)=\\left\\{ \\begin{array}{ccc}\n",
        "1 & \\text{ if } & |x-\\left(0.25,0.25\\right)|\\leq0.1\\\\\n",
        "0 &  & \\text{otherwise}\n",
        "\\end{array}\\right.\n",
        "\\end{equation}\n",
        "weak form \n",
        "\\begin{align*}\n",
        "a^{*}\\left(\\phi,v\\right) & :=\\int_{\\Omega}\\epsilon\\nabla\\phi\\nabla v-\\boldsymbol{\\beta}\\cdot\\nabla\\phi v+\\alpha\\phi v\\ \\mathrm{d}x\\\\\n",
        "L\\left(v\\right) & :=\\int_{\\Omega}\\psi v\\ \\mathrm{d}x\n",
        "\\end{align*}\n",
        "\n",
        "**Error Representation:** Prove that the error measured in the\n",
        "goal is actually the residual of the dual solution. By definition\n",
        "\\begin{align*}\n",
        "\\mathcal{E} & =\\mathcal{M}\\left(u\\right)-\\mathcal{M}\\left(u_{h}\\right)\\\\\n",
        " & =\\mathcal{M}\\left(u-u_{h}\\right)\\\\\n",
        " & =a\\left(u-u_{h},\\phi_h\\right)=a\\left(u,\\phi_h\\right)-a\\left(u_{h},\\phi_h\\right)\\text{ (from adjoint problem)}\\\\\n",
        " & =L\\left(\\phi_h\\right)-a\\left(u_{h},\\phi_h\\right)\\text{ (from primal problem)}\\\\\n",
        " & =-r\\left(u_{h},\\phi_h\\right)\\text{ (definition of residual)}\\\\\n",
        "\\end{align*}\n",
        "\n",
        "\n",
        "**Error indicator:** From the error representation above\n",
        "\n",
        "\n",
        "\\begin{equation}\n",
        "  \\mathcal{E}=-r\\left(u_{h},\\phi_h\\right)=-\\sum_{K\\in T}r\\left(u_{h},\\phi_h\\right){}_{K}\n",
        "\\end{equation}\n",
        "where $K$ is a cell. The error indicator is defined by \n",
        "\\begin{equation}\n",
        "  \\mathcal{E}_{K}=|r(u_{h},\\phi_h)_{K}|\n",
        "\\end{equation}\n",
        "\n",
        "**Strategy**: if $\\mathcal{E}_{K}$ is large, refine $K$. Note\n",
        "that $r(u_{h},\\phi_{h})=0$ but $r(u_{h},\\phi_{h})_{K}$ is not zero\n",
        "and carries information about the local error contribution. \n",
        "\n",
        "**Adaptive algorithm:** \n",
        "\n",
        "1) Choose an initial triangulation $T_{h}^{0}$ as starting guess. \n",
        "\n",
        "2) Compute FEM solution $u_{h}$ on $T_{h}^{j}$\n",
        "\n",
        "3) Evalute stopping criterion, either the error representation $|r(u_{h},\\phi_{h})|\\leq Tol$\n",
        "\n",
        "if available, or the goal quantity from two successive adaptive iterations $|\\mathcal{M}(u_{h}^{j})-\\mathcal{M}(u_{h}^{j-1})|\\leq Tol$\n",
        "\n",
        "\n",
        "4) Refine a percentage of the cells $K$ where the error contribution/\n",
        "indicator $\\mathcal{E}_{K}=|r(u_{h},\\phi_{h})_{K}|$ is largest, with\n",
        "local mesh bisection (e.g. Rivara refinement for simplices). \n",
        "\n",
        "The following code solves the primal problem, the dual problem and\n",
        "calculates the error indicators:\n"
      ]
    },
    {
      "cell_type": "code",
      "metadata": {
        "id": "8Rzb39Gf-eTM",
        "colab_type": "code",
        "colab": {}
      },
      "source": [
        ""
      ],
      "execution_count": 0,
      "outputs": []
    },
    {
      "cell_type": "code",
      "metadata": {
        "id": "s8lbLgGN99lM",
        "colab_type": "code",
        "colab": {
          "base_uri": "https://localhost:8080/",
          "height": 809
        },
        "outputId": "0b49f157-8c1a-4766-ac81-0589de95ae1c"
      },
      "source": [
        "from mshr import *\n",
        "import time\n",
        "import matplotlib.pyplot as plt\n",
        "\n",
        "\n",
        "# Create mesh\n",
        "mesh = UnitSquareMesh(30,30)\n",
        "\n",
        "\n",
        "# function sapce\n",
        "Q = FunctionSpace(mesh, \"CG\", 1);\n",
        "\n",
        "\n",
        "# trial and test functions\n",
        "u = TrialFunction(Q);\n",
        "v = TestFunction(Q);\n",
        "\n",
        "\n",
        "# coefficients\n",
        "alpha = 0.1\n",
        "epsilon = 0.01\n",
        "beta = Expression((\"-5*(x[1] - 0.5)\", \"5*(x[0] - 0.5)\"), degree=2)\n",
        "\n",
        "\n",
        "# a and L\n",
        "def aform(u,beta,v):\n",
        "    return epsilon*inner(grad(u), grad(v)) + inner(beta, grad(u))*v + alpha*u*v\n",
        "\n",
        "def Lform(f,v):\n",
        "    return f*v\n",
        "\n",
        "\n",
        "\n",
        "# primal problem\n",
        "f = Expression(\"((x[0] - 0.75)*(x[0] - 0.75) + (x[1] - 0.75)*(x[1] - 0.75)) < 0.1*0.1 ? 1 : 0\", degree=2)\n",
        "a= aform(u, beta, v)*dx\n",
        "L= Lform(f, v)*dx\n",
        "\n",
        "\n",
        "# solve primal problem\n",
        "wprimal = Function(Q);\n",
        "solve(a==L, wprimal)\n",
        "\n",
        "\n",
        "# dual problem\n",
        "wdual = Function(Q);\n",
        "psi = Expression(\"((x[0] - 0.25)*(x[0] - 0.25) + (x[1] - 0.25)*(x[1] - 0.25)) < 0.1*0.1 ? 1 : 0\", degree=2)\n",
        "\n",
        "a = aform(u, -beta, v)*dx\n",
        "L = Lform(psi, v)*dx\n",
        "\n",
        "solve(a==L, wdual)\n",
        "\n",
        "\n",
        "# Compute Error Indicator\n",
        "# Discontinuous Galerkin space\n",
        "Z = FunctionSpace(mesh, \"DG\", 0); \n",
        "z = TestFunction(Z)\n",
        "ei = Function(Z)\n",
        "\n",
        "re = aform(wprimal, beta, wdual)*z*dx - Lform(f, wdual)*z*dx\n",
        "\n",
        "\n",
        "ei.vector()[:] = assemble(re)[:]\n",
        "ei.vector()[:] = abs( ei.vector()[:] )\n",
        "\n",
        "\n",
        "# ======= Plot ======= \n",
        "\n",
        "plt.figure()\n",
        "pp = plot(wprimal)\n",
        "plt.title(\"Primal\")\n",
        "plt.colorbar(pp);\n",
        "\n",
        "plt.figure()\n",
        "qq = plot(wdual)\n",
        "plt.title(\"Dual Problem\")\n",
        "plt.colorbar(qq);\n",
        "\n",
        "plt.figure()\n",
        "ee = plot(ei) \n",
        "plt.title(\"Error Indicator\")\n",
        "plt.colorbar(ee);\n",
        "\n",
        "\n",
        "\n",
        "plt.show()\n",
        "\n",
        "\n",
        "\n"
      ],
      "execution_count": 7,
      "outputs": [
        {
          "output_type": "display_data",
          "data": {
            "image/png": "[encoded data removed]",
            "text/plain": [
              "<Figure size 432x288 with 2 Axes>"
            ]
          },
          "metadata": {
            "tags": []
          }
        },
        {
          "output_type": "display_data",
          "data": {
            "image/png": "[encoded data removed]",
            "text/plain": [
              "<Figure size 432x288 with 2 Axes>"
            ]
          },
          "metadata": {
            "tags": []
          }
        },
        {
          "output_type": "display_data",
          "data": {
            "image/png": "[encoded data removed]",
            "text/plain": [
              "<Figure size 432x288 with 2 Axes>"
            ]
          },
          "metadata": {
            "tags": []
          }
        }
      ]
    }
  ]
}